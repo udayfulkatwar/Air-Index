{
  "cells": [
    {
      "cell_type": "markdown",
      "metadata": {
        "id": "view-in-github",
        "colab_type": "text"
      },
      "source": [
        "<a href=\"https://colab.research.google.com/github/udayfulkatwar/Green-AI-Workshop/blob/main/KMeans_Clustering.ipynb\" target=\"_parent\"><img src=\"https://colab.research.google.com/assets/colab-badge.svg\" alt=\"Open In Colab\"/></a>"
      ]
    },
    {
      "cell_type": "markdown",
      "id": "6b2b332c",
      "metadata": {
        "id": "6b2b332c"
      },
      "source": [
        "#Implementing K-means Algorithm"
      ]
    },
    {
      "cell_type": "markdown",
      "id": "965aa419",
      "metadata": {
        "id": "965aa419"
      },
      "source": [
        "# Problem Statement:\n",
        "\n",
        "A retail store wants to get insights about its customers. And then build a system that can cluster customers into different groups."
      ]
    },
    {
      "cell_type": "markdown",
      "id": "95fc836f",
      "metadata": {
        "id": "95fc836f"
      },
      "source": [
        "# Steps:"
      ]
    },
    {
      "cell_type": "markdown",
      "id": "46503ea0",
      "metadata": {
        "id": "46503ea0"
      },
      "source": [
        "### Import Libraries"
      ]
    },
    {
      "cell_type": "code",
      "execution_count": null,
      "id": "8d9104b6",
      "metadata": {
        "id": "8d9104b6"
      },
      "outputs": [],
      "source": [
        "import os\n",
        "os.environ[\"OMP_NUM_THREADS\"] = '1'\n",
        "\n",
        "#This can prevent multi-threading conflicts, reduce CPU load, or help in debugging.\n",
        "#Some libraries or operations (e.g., NumPy operations or machine learning libraries) use OpenMP to parallelize tasks across multiple threads by default. This can sometimes lead to issues, such as excessive CPU usage"
      ]
    },
    {
      "cell_type": "code",
      "execution_count": null,
      "id": "300394e5",
      "metadata": {
        "id": "300394e5"
      },
      "outputs": [],
      "source": [
        "import pandas as pd"
      ]
    },
    {
      "cell_type": "code",
      "execution_count": null,
      "id": "1266f603",
      "metadata": {
        "id": "1266f603"
      },
      "outputs": [],
      "source": [
        "import matplotlib.pyplot as plt"
      ]
    },
    {
      "cell_type": "code",
      "execution_count": null,
      "id": "2012ca04",
      "metadata": {
        "id": "2012ca04"
      },
      "outputs": [],
      "source": [
        "import seaborn as sns"
      ]
    },
    {
      "cell_type": "code",
      "execution_count": null,
      "id": "1cfa7d18",
      "metadata": {
        "id": "1cfa7d18"
      },
      "outputs": [],
      "source": [
        "from sklearn.cluster import KMeans"
      ]
    },
    {
      "cell_type": "markdown",
      "id": "2cba2053",
      "metadata": {
        "id": "2cba2053"
      },
      "source": [
        "### Loading Data"
      ]
    },
    {
      "cell_type": "code",
      "execution_count": null,
      "id": "ac57dd0c",
      "metadata": {
        "id": "ac57dd0c"
      },
      "outputs": [],
      "source": [
        "df=pd.read_csv(\"Mall_Customers.csv\")"
      ]
    },
    {
      "cell_type": "markdown",
      "id": "b3460e45",
      "metadata": {
        "id": "b3460e45"
      },
      "source": [
        "The data includes the following features:\n",
        "\n",
        "1. Customer ID\n",
        "2. Customer Gender\n",
        "3. Customer Age\n",
        "4. Annual Income of the customer (in Thousand Dollars)\n",
        "5. Spending score of the customer (based on customer behaviour and spending nature)"
      ]
    },
    {
      "cell_type": "code",
      "execution_count": null,
      "id": "f5bbb3a5",
      "metadata": {
        "id": "f5bbb3a5",
        "outputId": "a4ba206f-e32b-4014-8f8b-4f00bc3ba1ad"
      },
      "outputs": [
        {
          "data": {
            "text/html": [
              "<div>\n",
              "<style scoped>\n",
              "    .dataframe tbody tr th:only-of-type {\n",
              "        vertical-align: middle;\n",
              "    }\n",
              "\n",
              "    .dataframe tbody tr th {\n",
              "        vertical-align: top;\n",
              "    }\n",
              "\n",
              "    .dataframe thead th {\n",
              "        text-align: right;\n",
              "    }\n",
              "</style>\n",
              "<table border=\"1\" class=\"dataframe\">\n",
              "  <thead>\n",
              "    <tr style=\"text-align: right;\">\n",
              "      <th></th>\n",
              "      <th>CustomerID</th>\n",
              "      <th>Gender</th>\n",
              "      <th>Age</th>\n",
              "      <th>Annual Income (k$)</th>\n",
              "      <th>Spending Score (1-100)</th>\n",
              "    </tr>\n",
              "  </thead>\n",
              "  <tbody>\n",
              "    <tr>\n",
              "      <th>0</th>\n",
              "      <td>1</td>\n",
              "      <td>Male</td>\n",
              "      <td>19</td>\n",
              "      <td>15</td>\n",
              "      <td>39</td>\n",
              "    </tr>\n",
              "    <tr>\n",
              "      <th>1</th>\n",
              "      <td>2</td>\n",
              "      <td>Male</td>\n",
              "      <td>21</td>\n",
              "      <td>15</td>\n",
              "      <td>81</td>\n",
              "    </tr>\n",
              "    <tr>\n",
              "      <th>2</th>\n",
              "      <td>3</td>\n",
              "      <td>Female</td>\n",
              "      <td>20</td>\n",
              "      <td>16</td>\n",
              "      <td>6</td>\n",
              "    </tr>\n",
              "    <tr>\n",
              "      <th>3</th>\n",
              "      <td>4</td>\n",
              "      <td>Female</td>\n",
              "      <td>23</td>\n",
              "      <td>16</td>\n",
              "      <td>77</td>\n",
              "    </tr>\n",
              "    <tr>\n",
              "      <th>4</th>\n",
              "      <td>5</td>\n",
              "      <td>Female</td>\n",
              "      <td>31</td>\n",
              "      <td>17</td>\n",
              "      <td>40</td>\n",
              "    </tr>\n",
              "  </tbody>\n",
              "</table>\n",
              "</div>"
            ],
            "text/plain": [
              "   CustomerID  Gender  Age  Annual Income (k$)  Spending Score (1-100)\n",
              "0           1    Male   19                  15                      39\n",
              "1           2    Male   21                  15                      81\n",
              "2           3  Female   20                  16                       6\n",
              "3           4  Female   23                  16                      77\n",
              "4           5  Female   31                  17                      40"
            ]
          },
          "execution_count": 13,
          "metadata": {},
          "output_type": "execute_result"
        }
      ],
      "source": [
        "df.head()"
      ]
    },
    {
      "cell_type": "markdown",
      "id": "fed7b0e9",
      "metadata": {
        "id": "fed7b0e9"
      },
      "source": [
        "### Data Exploration"
      ]
    },
    {
      "cell_type": "code",
      "execution_count": null,
      "id": "41b692b5",
      "metadata": {
        "id": "41b692b5"
      },
      "outputs": [],
      "source": [
        "### Check Null Values"
      ]
    },
    {
      "cell_type": "code",
      "execution_count": null,
      "id": "c1df7d3e",
      "metadata": {
        "id": "c1df7d3e",
        "outputId": "b52a8bf3-d1f5-4ae8-afa1-d34c9a0fe27c"
      },
      "outputs": [
        {
          "data": {
            "text/plain": [
              "CustomerID                0\n",
              "Gender                    0\n",
              "Age                       0\n",
              "Annual Income (k$)        0\n",
              "Spending Score (1-100)    0\n",
              "dtype: int64"
            ]
          },
          "execution_count": 15,
          "metadata": {},
          "output_type": "execute_result"
        }
      ],
      "source": [
        "df.isnull().sum()"
      ]
    },
    {
      "cell_type": "code",
      "execution_count": null,
      "id": "878f1579",
      "metadata": {
        "id": "878f1579"
      },
      "outputs": [],
      "source": [
        "### Observation: There is no missing values."
      ]
    },
    {
      "cell_type": "code",
      "execution_count": null,
      "id": "c43b2ec4",
      "metadata": {
        "id": "c43b2ec4"
      },
      "outputs": [],
      "source": [
        "### Visual and Statistical Understanding of data"
      ]
    },
    {
      "cell_type": "code",
      "execution_count": null,
      "id": "645e7699",
      "metadata": {
        "id": "645e7699",
        "outputId": "2d6a88ef-5cc1-41c6-98f2-7bd4b0bba8a2"
      },
      "outputs": [
        {
          "data": {
            "text/plain": [
              "Index(['CustomerID', 'Gender', 'Age', 'Annual Income (k$)',\n",
              "       'Spending Score (1-100)'],\n",
              "      dtype='object')"
            ]
          },
          "execution_count": 21,
          "metadata": {},
          "output_type": "execute_result"
        }
      ],
      "source": [
        "df.columns"
      ]
    },
    {
      "cell_type": "code",
      "execution_count": null,
      "id": "e5234f74",
      "metadata": {
        "id": "e5234f74",
        "outputId": "03c22be6-5cf6-4a93-9a4c-9d388b777817"
      },
      "outputs": [
        {
          "data": {
            "image/png": "[encoded data removed]",
            "text/plain": [
              "<Figure size 640x480 with 1 Axes>"
            ]
          },
          "metadata": {},
          "output_type": "display_data"
        }
      ],
      "source": [
        "plt.scatter(df['Age'],df['Spending Score (1-100)'])\n",
        "plt.xlabel(\"Age\")\n",
        "plt.ylabel(\"Spending Score\")\n",
        "plt.show()"
      ]
    },
    {
      "cell_type": "code",
      "execution_count": null,
      "id": "5377aa22",
      "metadata": {
        "id": "5377aa22"
      },
      "outputs": [],
      "source": [
        "### Observation: It seems to purpose two types of Customer"
      ]
    },
    {
      "cell_type": "code",
      "execution_count": null,
      "id": "4f316e2e",
      "metadata": {
        "id": "4f316e2e",
        "outputId": "b31537b4-cfec-46fe-d6a7-548c17c73a6c"
      },
      "outputs": [
        {
          "data": {
            "image/png": "[encoded data removed]",
            "text/plain": [
              "<Figure size 640x480 with 1 Axes>"
            ]
          },
          "metadata": {},
          "output_type": "display_data"
        }
      ],
      "source": [
        "plt.scatter(df[\"Age\"],df[\"Annual Income (k$)\"])\n",
        "plt.xlabel(\"Age\")\n",
        "plt.ylabel(\"Annual Income (k$)\")\n",
        "plt.show()"
      ]
    },
    {
      "cell_type": "code",
      "execution_count": null,
      "id": "df0d0d06-479a-4336-a2a1-598acbce78cf",
      "metadata": {
        "id": "df0d0d06-479a-4336-a2a1-598acbce78cf",
        "outputId": "72393819-66ec-4ba3-bbee-8ff94f77668c"
      },
      "outputs": [
        {
          "data": {
            "image/png": "[encoded data removed]",
            "text/plain": [
              "<Figure size 640x480 with 1 Axes>"
            ]
          },
          "metadata": {},
          "output_type": "display_data"
        }
      ],
      "source": [
        "plt.scatter(df[\"Spending Score (1-100)\"],df[\"Annual Income (k$)\"])\n",
        "plt.xlabel(\"Spending Score (1-100)\")\n",
        "plt.ylabel(\"Annual Income (k$)\")\n",
        "plt.show()"
      ]
    },
    {
      "cell_type": "code",
      "execution_count": null,
      "id": "4042ba2c",
      "metadata": {
        "id": "4042ba2c"
      },
      "outputs": [],
      "source": [
        "### Observation: No Group"
      ]
    },
    {
      "cell_type": "code",
      "execution_count": null,
      "id": "ac4441a5",
      "metadata": {
        "id": "ac4441a5",
        "outputId": "5bb75031-c3a6-4077-a74f-0c4fcd03d39e"
      },
      "outputs": [
        {
          "data": {
            "image/png": "[encoded data removed]",
            "text/plain": [
              "<Figure size 640x480 with 1 Axes>"
            ]
          },
          "metadata": {},
          "output_type": "display_data"
        }
      ],
      "source": [
        "sns.scatterplot(x=df[\"Spending Score (1-100)\"], y=df[\"Annual Income (k$)\"], hue=df['Gender'])\n",
        "plt.xlabel(\"Spending Score (1-100)\")\n",
        "plt.ylabel(\"Annual Income (k$)\")\n",
        "plt.show()"
      ]
    },
    {
      "cell_type": "code",
      "execution_count": null,
      "id": "527cfc46",
      "metadata": {
        "id": "527cfc46"
      },
      "outputs": [],
      "source": [
        "### It seems to purpose five Groups"
      ]
    },
    {
      "cell_type": "markdown",
      "id": "97e5bc51",
      "metadata": {
        "id": "97e5bc51"
      },
      "source": [
        "### Choose Relevant Columns"
      ]
    },
    {
      "cell_type": "markdown",
      "id": "7bb1ddca",
      "metadata": {
        "id": "7bb1ddca"
      },
      "source": [
        "All the columns are  not relevant for the clustering. In this example, we will use the numerical ones: Age, Annual Income, and Spending Score"
      ]
    },
    {
      "cell_type": "code",
      "execution_count": null,
      "id": "8a4f1b49",
      "metadata": {
        "id": "8a4f1b49"
      },
      "outputs": [],
      "source": [
        "relevant_cols = [\"Age\", \"Annual Income (k$)\",\n",
        "                 \"Spending Score (1-100)\"]\n",
        "\n",
        "customer_df = df[relevant_cols]"
      ]
    },
    {
      "cell_type": "code",
      "execution_count": null,
      "id": "b8a49d29",
      "metadata": {
        "id": "b8a49d29",
        "outputId": "d681c35c-9b7d-4716-b458-86bc70cb497e"
      },
      "outputs": [
        {
          "data": {
            "text/html": [
              "<div>\n",
              "<style scoped>\n",
              "    .dataframe tbody tr th:only-of-type {\n",
              "        vertical-align: middle;\n",
              "    }\n",
              "\n",
              "    .dataframe tbody tr th {\n",
              "        vertical-align: top;\n",
              "    }\n",
              "\n",
              "    .dataframe thead th {\n",
              "        text-align: right;\n",
              "    }\n",
              "</style>\n",
              "<table border=\"1\" class=\"dataframe\">\n",
              "  <thead>\n",
              "    <tr style=\"text-align: right;\">\n",
              "      <th></th>\n",
              "      <th>Age</th>\n",
              "      <th>Annual Income (k$)</th>\n",
              "      <th>Spending Score (1-100)</th>\n",
              "    </tr>\n",
              "  </thead>\n",
              "  <tbody>\n",
              "    <tr>\n",
              "      <th>0</th>\n",
              "      <td>19</td>\n",
              "      <td>15</td>\n",
              "      <td>39</td>\n",
              "    </tr>\n",
              "    <tr>\n",
              "      <th>1</th>\n",
              "      <td>21</td>\n",
              "      <td>15</td>\n",
              "      <td>81</td>\n",
              "    </tr>\n",
              "    <tr>\n",
              "      <th>2</th>\n",
              "      <td>20</td>\n",
              "      <td>16</td>\n",
              "      <td>6</td>\n",
              "    </tr>\n",
              "    <tr>\n",
              "      <th>3</th>\n",
              "      <td>23</td>\n",
              "      <td>16</td>\n",
              "      <td>77</td>\n",
              "    </tr>\n",
              "    <tr>\n",
              "      <th>4</th>\n",
              "      <td>31</td>\n",
              "      <td>17</td>\n",
              "      <td>40</td>\n",
              "    </tr>\n",
              "    <tr>\n",
              "      <th>...</th>\n",
              "      <td>...</td>\n",
              "      <td>...</td>\n",
              "      <td>...</td>\n",
              "    </tr>\n",
              "    <tr>\n",
              "      <th>195</th>\n",
              "      <td>35</td>\n",
              "      <td>120</td>\n",
              "      <td>79</td>\n",
              "    </tr>\n",
              "    <tr>\n",
              "      <th>196</th>\n",
              "      <td>45</td>\n",
              "      <td>126</td>\n",
              "      <td>28</td>\n",
              "    </tr>\n",
              "    <tr>\n",
              "      <th>197</th>\n",
              "      <td>32</td>\n",
              "      <td>126</td>\n",
              "      <td>74</td>\n",
              "    </tr>\n",
              "    <tr>\n",
              "      <th>198</th>\n",
              "      <td>32</td>\n",
              "      <td>137</td>\n",
              "      <td>18</td>\n",
              "    </tr>\n",
              "    <tr>\n",
              "      <th>199</th>\n",
              "      <td>30</td>\n",
              "      <td>137</td>\n",
              "      <td>83</td>\n",
              "    </tr>\n",
              "  </tbody>\n",
              "</table>\n",
              "<p>200 rows × 3 columns</p>\n",
              "</div>"
            ],
            "text/plain": [
              "     Age  Annual Income (k$)  Spending Score (1-100)\n",
              "0     19                  15                      39\n",
              "1     21                  15                      81\n",
              "2     20                  16                       6\n",
              "3     23                  16                      77\n",
              "4     31                  17                      40\n",
              "..   ...                 ...                     ...\n",
              "195   35                 120                      79\n",
              "196   45                 126                      28\n",
              "197   32                 126                      74\n",
              "198   32                 137                      18\n",
              "199   30                 137                      83\n",
              "\n",
              "[200 rows x 3 columns]"
            ]
          },
          "execution_count": 31,
          "metadata": {},
          "output_type": "execute_result"
        }
      ],
      "source": [
        "customer_df"
      ]
    },
    {
      "cell_type": "markdown",
      "id": "519ca88a",
      "metadata": {
        "id": "519ca88a"
      },
      "source": [
        "### Data Transformation"
      ]
    },
    {
      "cell_type": "markdown",
      "id": "3099f823",
      "metadata": {
        "id": "3099f823"
      },
      "source": [
        "Kmeans is sensitive to the measurement units and scales of the data. It is better to standardize the data first to tackle this issue"
      ]
    },
    {
      "cell_type": "markdown",
      "id": "6857fd9e",
      "metadata": {
        "id": "6857fd9e"
      },
      "source": [
        "The standardization substracts the mean of any feature from the actual values of that feature and divides the feature’s standard deviation."
      ]
    },
    {
      "cell_type": "code",
      "execution_count": null,
      "id": "3beff647",
      "metadata": {
        "id": "3beff647"
      },
      "outputs": [],
      "source": [
        "from sklearn.preprocessing import StandardScaler"
      ]
    },
    {
      "cell_type": "code",
      "execution_count": null,
      "id": "44881975",
      "metadata": {
        "id": "44881975"
      },
      "outputs": [],
      "source": [
        "scaler = StandardScaler()"
      ]
    },
    {
      "cell_type": "code",
      "execution_count": null,
      "id": "30637163",
      "metadata": {
        "id": "30637163",
        "outputId": "071840ff-2ea2-4c79-f4e4-89b8daed47b0"
      },
      "outputs": [
        {
          "data": {
            "text/html": [
              "<style>#sk-container-id-1 {\n",
              "  /* Definition of color scheme common for light and dark mode */\n",
              "  --sklearn-color-text: black;\n",
              "  --sklearn-color-line: gray;\n",
              "  /* Definition of color scheme for unfitted estimators */\n",
              "  --sklearn-color-unfitted-level-0: #fff5e6;\n",
              "  --sklearn-color-unfitted-level-1: #f6e4d2;\n",
              "  --sklearn-color-unfitted-level-2: #ffe0b3;\n",
              "  --sklearn-color-unfitted-level-3: chocolate;\n",
              "  /* Definition of color scheme for fitted estimators */\n",
              "  --sklearn-color-fitted-level-0: #f0f8ff;\n",
              "  --sklearn-color-fitted-level-1: #d4ebff;\n",
              "  --sklearn-color-fitted-level-2: #b3dbfd;\n",
              "  --sklearn-color-fitted-level-3: cornflowerblue;\n",
              "\n",
              "  /* Specific color for light theme */\n",
              "  --sklearn-color-text-on-default-background: var(--sg-text-color, var(--theme-code-foreground, var(--jp-content-font-color1, black)));\n",
              "  --sklearn-color-background: var(--sg-background-color, var(--theme-background, var(--jp-layout-color0, white)));\n",
              "  --sklearn-color-border-box: var(--sg-text-color, var(--theme-code-foreground, var(--jp-content-font-color1, black)));\n",
              "  --sklearn-color-icon: #696969;\n",
              "\n",
              "  @media (prefers-color-scheme: dark) {\n",
              "    /* Redefinition of color scheme for dark theme */\n",
              "    --sklearn-color-text-on-default-background: var(--sg-text-color, var(--theme-code-foreground, var(--jp-content-font-color1, white)));\n",
              "    --sklearn-color-background: var(--sg-background-color, var(--theme-background, var(--jp-layout-color0, #111)));\n",
              "    --sklearn-color-border-box: var(--sg-text-color, var(--theme-code-foreground, var(--jp-content-font-color1, white)));\n",
              "    --sklearn-color-icon: #878787;\n",
              "  }\n",
              "}\n",
              "\n",
              "#sk-container-id-1 {\n",
              "  color: var(--sklearn-color-text);\n",
              "}\n",
              "\n",
              "#sk-container-id-1 pre {\n",
              "  padding: 0;\n",
              "}\n",
              "\n",
              "#sk-container-id-1 input.sk-hidden--visually {\n",
              "  border: 0;\n",
              "  clip: rect(1px 1px 1px 1px);\n",
              "  clip: rect(1px, 1px, 1px, 1px);\n",
              "  height: 1px;\n",
              "  margin: -1px;\n",
              "  overflow: hidden;\n",
              "  padding: 0;\n",
              "  position: absolute;\n",
              "  width: 1px;\n",
              "}\n",
              "\n",
              "#sk-container-id-1 div.sk-dashed-wrapped {\n",
              "  border: 1px dashed var(--sklearn-color-line);\n",
              "  margin: 0 0.4em 0.5em 0.4em;\n",
              "  box-sizing: border-box;\n",
              "  padding-bottom: 0.4em;\n",
              "  background-color: var(--sklearn-color-background);\n",
              "}\n",
              "\n",
              "#sk-container-id-1 div.sk-container {\n",
              "  /* jupyter's `normalize.less` sets `[hidden] { display: none; }`\n",
              "     but bootstrap.min.css set `[hidden] { display: none !important; }`\n",
              "     so we also need the `!important` here to be able to override the\n",
              "     default hidden behavior on the sphinx rendered scikit-learn.org.\n",
              "     See: https://github.com/scikit-learn/scikit-learn/issues/21755 */\n",
              "  display: inline-block !important;\n",
              "  position: relative;\n",
              "}\n",
              "\n",
              "#sk-container-id-1 div.sk-text-repr-fallback {\n",
              "  display: none;\n",
              "}\n",
              "\n",
              "div.sk-parallel-item,\n",
              "div.sk-serial,\n",
              "div.sk-item {\n",
              "  /* draw centered vertical line to link estimators */\n",
              "  background-image: linear-gradient(var(--sklearn-color-text-on-default-background), var(--sklearn-color-text-on-default-background));\n",
              "  background-size: 2px 100%;\n",
              "  background-repeat: no-repeat;\n",
              "  background-position: center center;\n",
              "}\n",
              "\n",
              "/* Parallel-specific style estimator block */\n",
              "\n",
              "#sk-container-id-1 div.sk-parallel-item::after {\n",
              "  content: \"\";\n",
              "  width: 100%;\n",
              "  border-bottom: 2px solid var(--sklearn-color-text-on-default-background);\n",
              "  flex-grow: 1;\n",
              "}\n",
              "\n",
              "#sk-container-id-1 div.sk-parallel {\n",
              "  display: flex;\n",
              "  align-items: stretch;\n",
              "  justify-content: center;\n",
              "  background-color: var(--sklearn-color-background);\n",
              "  position: relative;\n",
              "}\n",
              "\n",
              "#sk-container-id-1 div.sk-parallel-item {\n",
              "  display: flex;\n",
              "  flex-direction: column;\n",
              "}\n",
              "\n",
              "#sk-container-id-1 div.sk-parallel-item:first-child::after {\n",
              "  align-self: flex-end;\n",
              "  width: 50%;\n",
              "}\n",
              "\n",
              "#sk-container-id-1 div.sk-parallel-item:last-child::after {\n",
              "  align-self: flex-start;\n",
              "  width: 50%;\n",
              "}\n",
              "\n",
              "#sk-container-id-1 div.sk-parallel-item:only-child::after {\n",
              "  width: 0;\n",
              "}\n",
              "\n",
              "/* Serial-specific style estimator block */\n",
              "\n",
              "#sk-container-id-1 div.sk-serial {\n",
              "  display: flex;\n",
              "  flex-direction: column;\n",
              "  align-items: center;\n",
              "  background-color: var(--sklearn-color-background);\n",
              "  padding-right: 1em;\n",
              "  padding-left: 1em;\n",
              "}\n",
              "\n",
              "\n",
              "/* Toggleable style: style used for estimator/Pipeline/ColumnTransformer box that is\n",
              "clickable and can be expanded/collapsed.\n",
              "- Pipeline and ColumnTransformer use this feature and define the default style\n",
              "- Estimators will overwrite some part of the style using the `sk-estimator` class\n",
              "*/\n",
              "\n",
              "/* Pipeline and ColumnTransformer style (default) */\n",
              "\n",
              "#sk-container-id-1 div.sk-toggleable {\n",
              "  /* Default theme specific background. It is overwritten whether we have a\n",
              "  specific estimator or a Pipeline/ColumnTransformer */\n",
              "  background-color: var(--sklearn-color-background);\n",
              "}\n",
              "\n",
              "/* Toggleable label */\n",
              "#sk-container-id-1 label.sk-toggleable__label {\n",
              "  cursor: pointer;\n",
              "  display: block;\n",
              "  width: 100%;\n",
              "  margin-bottom: 0;\n",
              "  padding: 0.5em;\n",
              "  box-sizing: border-box;\n",
              "  text-align: center;\n",
              "}\n",
              "\n",
              "#sk-container-id-1 label.sk-toggleable__label-arrow:before {\n",
              "  /* Arrow on the left of the label */\n",
              "  content: \"▸\";\n",
              "  float: left;\n",
              "  margin-right: 0.25em;\n",
              "  color: var(--sklearn-color-icon);\n",
              "}\n",
              "\n",
              "#sk-container-id-1 label.sk-toggleable__label-arrow:hover:before {\n",
              "  color: var(--sklearn-color-text);\n",
              "}\n",
              "\n",
              "/* Toggleable content - dropdown */\n",
              "\n",
              "#sk-container-id-1 div.sk-toggleable__content {\n",
              "  max-height: 0;\n",
              "  max-width: 0;\n",
              "  overflow: hidden;\n",
              "  text-align: left;\n",
              "  /* unfitted */\n",
              "  background-color: var(--sklearn-color-unfitted-level-0);\n",
              "}\n",
              "\n",
              "#sk-container-id-1 div.sk-toggleable__content.fitted {\n",
              "  /* fitted */\n",
              "  background-color: var(--sklearn-color-fitted-level-0);\n",
              "}\n",
              "\n",
              "#sk-container-id-1 div.sk-toggleable__content pre {\n",
              "  margin: 0.2em;\n",
              "  border-radius: 0.25em;\n",
              "  color: var(--sklearn-color-text);\n",
              "  /* unfitted */\n",
              "  background-color: var(--sklearn-color-unfitted-level-0);\n",
              "}\n",
              "\n",
              "#sk-container-id-1 div.sk-toggleable__content.fitted pre {\n",
              "  /* unfitted */\n",
              "  background-color: var(--sklearn-color-fitted-level-0);\n",
              "}\n",
              "\n",
              "#sk-container-id-1 input.sk-toggleable__control:checked~div.sk-toggleable__content {\n",
              "  /* Expand drop-down */\n",
              "  max-height: 200px;\n",
              "  max-width: 100%;\n",
              "  overflow: auto;\n",
              "}\n",
              "\n",
              "#sk-container-id-1 input.sk-toggleable__control:checked~label.sk-toggleable__label-arrow:before {\n",
              "  content: \"▾\";\n",
              "}\n",
              "\n",
              "/* Pipeline/ColumnTransformer-specific style */\n",
              "\n",
              "#sk-container-id-1 div.sk-label input.sk-toggleable__control:checked~label.sk-toggleable__label {\n",
              "  color: var(--sklearn-color-text);\n",
              "  background-color: var(--sklearn-color-unfitted-level-2);\n",
              "}\n",
              "\n",
              "#sk-container-id-1 div.sk-label.fitted input.sk-toggleable__control:checked~label.sk-toggleable__label {\n",
              "  background-color: var(--sklearn-color-fitted-level-2);\n",
              "}\n",
              "\n",
              "/* Estimator-specific style */\n",
              "\n",
              "/* Colorize estimator box */\n",
              "#sk-container-id-1 div.sk-estimator input.sk-toggleable__control:checked~label.sk-toggleable__label {\n",
              "  /* unfitted */\n",
              "  background-color: var(--sklearn-color-unfitted-level-2);\n",
              "}\n",
              "\n",
              "#sk-container-id-1 div.sk-estimator.fitted input.sk-toggleable__control:checked~label.sk-toggleable__label {\n",
              "  /* fitted */\n",
              "  background-color: var(--sklearn-color-fitted-level-2);\n",
              "}\n",
              "\n",
              "#sk-container-id-1 div.sk-label label.sk-toggleable__label,\n",
              "#sk-container-id-1 div.sk-label label {\n",
              "  /* The background is the default theme color */\n",
              "  color: var(--sklearn-color-text-on-default-background);\n",
              "}\n",
              "\n",
              "/* On hover, darken the color of the background */\n",
              "#sk-container-id-1 div.sk-label:hover label.sk-toggleable__label {\n",
              "  color: var(--sklearn-color-text);\n",
              "  background-color: var(--sklearn-color-unfitted-level-2);\n",
              "}\n",
              "\n",
              "/* Label box, darken color on hover, fitted */\n",
              "#sk-container-id-1 div.sk-label.fitted:hover label.sk-toggleable__label.fitted {\n",
              "  color: var(--sklearn-color-text);\n",
              "  background-color: var(--sklearn-color-fitted-level-2);\n",
              "}\n",
              "\n",
              "/* Estimator label */\n",
              "\n",
              "#sk-container-id-1 div.sk-label label {\n",
              "  font-family: monospace;\n",
              "  font-weight: bold;\n",
              "  display: inline-block;\n",
              "  line-height: 1.2em;\n",
              "}\n",
              "\n",
              "#sk-container-id-1 div.sk-label-container {\n",
              "  text-align: center;\n",
              "}\n",
              "\n",
              "/* Estimator-specific */\n",
              "#sk-container-id-1 div.sk-estimator {\n",
              "  font-family: monospace;\n",
              "  border: 1px dotted var(--sklearn-color-border-box);\n",
              "  border-radius: 0.25em;\n",
              "  box-sizing: border-box;\n",
              "  margin-bottom: 0.5em;\n",
              "  /* unfitted */\n",
              "  background-color: var(--sklearn-color-unfitted-level-0);\n",
              "}\n",
              "\n",
              "#sk-container-id-1 div.sk-estimator.fitted {\n",
              "  /* fitted */\n",
              "  background-color: var(--sklearn-color-fitted-level-0);\n",
              "}\n",
              "\n",
              "/* on hover */\n",
              "#sk-container-id-1 div.sk-estimator:hover {\n",
              "  /* unfitted */\n",
              "  background-color: var(--sklearn-color-unfitted-level-2);\n",
              "}\n",
              "\n",
              "#sk-container-id-1 div.sk-estimator.fitted:hover {\n",
              "  /* fitted */\n",
              "  background-color: var(--sklearn-color-fitted-level-2);\n",
              "}\n",
              "\n",
              "/* Specification for estimator info (e.g. \"i\" and \"?\") */\n",
              "\n",
              "/* Common style for \"i\" and \"?\" */\n",
              "\n",
              ".sk-estimator-doc-link,\n",
              "a:link.sk-estimator-doc-link,\n",
              "a:visited.sk-estimator-doc-link {\n",
              "  float: right;\n",
              "  font-size: smaller;\n",
              "  line-height: 1em;\n",
              "  font-family: monospace;\n",
              "  background-color: var(--sklearn-color-background);\n",
              "  border-radius: 1em;\n",
              "  height: 1em;\n",
              "  width: 1em;\n",
              "  text-decoration: none !important;\n",
              "  margin-left: 1ex;\n",
              "  /* unfitted */\n",
              "  border: var(--sklearn-color-unfitted-level-1) 1pt solid;\n",
              "  color: var(--sklearn-color-unfitted-level-1);\n",
              "}\n",
              "\n",
              ".sk-estimator-doc-link.fitted,\n",
              "a:link.sk-estimator-doc-link.fitted,\n",
              "a:visited.sk-estimator-doc-link.fitted {\n",
              "  /* fitted */\n",
              "  border: var(--sklearn-color-fitted-level-1) 1pt solid;\n",
              "  color: var(--sklearn-color-fitted-level-1);\n",
              "}\n",
              "\n",
              "/* On hover */\n",
              "div.sk-estimator:hover .sk-estimator-doc-link:hover,\n",
              ".sk-estimator-doc-link:hover,\n",
              "div.sk-label-container:hover .sk-estimator-doc-link:hover,\n",
              ".sk-estimator-doc-link:hover {\n",
              "  /* unfitted */\n",
              "  background-color: var(--sklearn-color-unfitted-level-3);\n",
              "  color: var(--sklearn-color-background);\n",
              "  text-decoration: none;\n",
              "}\n",
              "\n",
              "div.sk-estimator.fitted:hover .sk-estimator-doc-link.fitted:hover,\n",
              ".sk-estimator-doc-link.fitted:hover,\n",
              "div.sk-label-container:hover .sk-estimator-doc-link.fitted:hover,\n",
              ".sk-estimator-doc-link.fitted:hover {\n",
              "  /* fitted */\n",
              "  background-color: var(--sklearn-color-fitted-level-3);\n",
              "  color: var(--sklearn-color-background);\n",
              "  text-decoration: none;\n",
              "}\n",
              "\n",
              "/* Span, style for the box shown on hovering the info icon */\n",
              ".sk-estimator-doc-link span {\n",
              "  display: none;\n",
              "  z-index: 9999;\n",
              "  position: relative;\n",
              "  font-weight: normal;\n",
              "  right: .2ex;\n",
              "  padding: .5ex;\n",
              "  margin: .5ex;\n",
              "  width: min-content;\n",
              "  min-width: 20ex;\n",
              "  max-width: 50ex;\n",
              "  color: var(--sklearn-color-text);\n",
              "  box-shadow: 2pt 2pt 4pt #999;\n",
              "  /* unfitted */\n",
              "  background: var(--sklearn-color-unfitted-level-0);\n",
              "  border: .5pt solid var(--sklearn-color-unfitted-level-3);\n",
              "}\n",
              "\n",
              ".sk-estimator-doc-link.fitted span {\n",
              "  /* fitted */\n",
              "  background: var(--sklearn-color-fitted-level-0);\n",
              "  border: var(--sklearn-color-fitted-level-3);\n",
              "}\n",
              "\n",
              ".sk-estimator-doc-link:hover span {\n",
              "  display: block;\n",
              "}\n",
              "\n",
              "/* \"?\"-specific style due to the `<a>` HTML tag */\n",
              "\n",
              "#sk-container-id-1 a.estimator_doc_link {\n",
              "  float: right;\n",
              "  font-size: 1rem;\n",
              "  line-height: 1em;\n",
              "  font-family: monospace;\n",
              "  background-color: var(--sklearn-color-background);\n",
              "  border-radius: 1rem;\n",
              "  height: 1rem;\n",
              "  width: 1rem;\n",
              "  text-decoration: none;\n",
              "  /* unfitted */\n",
              "  color: var(--sklearn-color-unfitted-level-1);\n",
              "  border: var(--sklearn-color-unfitted-level-1) 1pt solid;\n",
              "}\n",
              "\n",
              "#sk-container-id-1 a.estimator_doc_link.fitted {\n",
              "  /* fitted */\n",
              "  border: var(--sklearn-color-fitted-level-1) 1pt solid;\n",
              "  color: var(--sklearn-color-fitted-level-1);\n",
              "}\n",
              "\n",
              "/* On hover */\n",
              "#sk-container-id-1 a.estimator_doc_link:hover {\n",
              "  /* unfitted */\n",
              "  background-color: var(--sklearn-color-unfitted-level-3);\n",
              "  color: var(--sklearn-color-background);\n",
              "  text-decoration: none;\n",
              "}\n",
              "\n",
              "#sk-container-id-1 a.estimator_doc_link.fitted:hover {\n",
              "  /* fitted */\n",
              "  background-color: var(--sklearn-color-fitted-level-3);\n",
              "}\n",
              "</style><div id=\"sk-container-id-1\" class=\"sk-top-container\"><div class=\"sk-text-repr-fallback\"><pre>StandardScaler()</pre><b>In a Jupyter environment, please rerun this cell to show the HTML representation or trust the notebook. <br />On GitHub, the HTML representation is unable to render, please try loading this page with nbviewer.org.</b></div><div class=\"sk-container\" hidden><div class=\"sk-item\"><div class=\"sk-estimator fitted sk-toggleable\"><input class=\"sk-toggleable__control sk-hidden--visually\" id=\"sk-estimator-id-1\" type=\"checkbox\" checked><label for=\"sk-estimator-id-1\" class=\"sk-toggleable__label fitted sk-toggleable__label-arrow fitted\">&nbsp;&nbsp;StandardScaler<a class=\"sk-estimator-doc-link fitted\" rel=\"noreferrer\" target=\"_blank\" href=\"https://scikit-learn.org/1.4/modules/generated/sklearn.preprocessing.StandardScaler.html\">?<span>Documentation for StandardScaler</span></a><span class=\"sk-estimator-doc-link fitted\">i<span>Fitted</span></span></label><div class=\"sk-toggleable__content fitted\"><pre>StandardScaler()</pre></div> </div></div></div></div>"
            ],
            "text/plain": [
              "StandardScaler()"
            ]
          },
          "execution_count": 31,
          "metadata": {},
          "output_type": "execute_result"
        }
      ],
      "source": [
        "scaler.fit(customer_df)"
      ]
    },
    {
      "cell_type": "code",
      "execution_count": null,
      "id": "fc3cac92",
      "metadata": {
        "id": "fc3cac92"
      },
      "outputs": [],
      "source": [
        "scaled_data = scaler.transform(customer_df)"
      ]
    },
    {
      "cell_type": "markdown",
      "id": "090c9713-1915-46f6-b7ba-2960d4df6894",
      "metadata": {
        "id": "090c9713-1915-46f6-b7ba-2960d4df6894"
      },
      "source": [
        "If you're using a StandardScaler, it scales each feature to have zero mean and unit variance.\n",
        "\n",
        "If you're using a MinMaxScaler, it scales each feature to be in the range [0, 1]."
      ]
    },
    {
      "cell_type": "code",
      "execution_count": null,
      "id": "b13cb048",
      "metadata": {
        "id": "b13cb048",
        "outputId": "91020a45-47e7-450d-b96e-8350ea047525"
      },
      "outputs": [
        {
          "data": {
            "text/plain": [
              "array([[-1.42456879, -1.73899919, -0.43480148],\n",
              "       [-1.28103541, -1.73899919,  1.19570407],\n",
              "       [-1.3528021 , -1.70082976, -1.71591298],\n",
              "       [-1.13750203, -1.70082976,  1.04041783],\n",
              "       [-0.56336851, -1.66266033, -0.39597992],\n",
              "       [-1.20926872, -1.66266033,  1.00159627],\n",
              "       [-0.27630176, -1.62449091, -1.71591298],\n",
              "       [-1.13750203, -1.62449091,  1.70038436],\n",
              "       [ 1.80493225, -1.58632148, -1.83237767],\n",
              "       [-0.6351352 , -1.58632148,  0.84631002],\n",
              "       [ 2.02023231, -1.58632148, -1.4053405 ],\n",
              "       [-0.27630176, -1.58632148,  1.89449216],\n",
              "       [ 1.37433211, -1.54815205, -1.36651894],\n",
              "       [-1.06573534, -1.54815205,  1.04041783],\n",
              "       [-0.13276838, -1.54815205, -1.44416206],\n",
              "       [-1.20926872, -1.54815205,  1.11806095],\n",
              "       [-0.27630176, -1.50998262, -0.59008772],\n",
              "       [-1.3528021 , -1.50998262,  0.61338066],\n",
              "       [ 0.94373197, -1.43364376, -0.82301709],\n",
              "       [-0.27630176, -1.43364376,  1.8556706 ],\n",
              "       [-0.27630176, -1.39547433, -0.59008772],\n",
              "       [-0.99396865, -1.39547433,  0.88513158],\n",
              "       [ 0.51313183, -1.3573049 , -1.75473454],\n",
              "       [-0.56336851, -1.3573049 ,  0.88513158],\n",
              "       [ 1.08726535, -1.24279661, -1.4053405 ],\n",
              "       [-0.70690189, -1.24279661,  1.23452563],\n",
              "       [ 0.44136514, -1.24279661, -0.7065524 ],\n",
              "       [-0.27630176, -1.24279661,  0.41927286],\n",
              "       [ 0.08253169, -1.20462718, -0.74537397],\n",
              "       [-1.13750203, -1.20462718,  1.42863343],\n",
              "       [ 1.51786549, -1.16645776, -1.7935561 ],\n",
              "       [-1.28103541, -1.16645776,  0.88513158],\n",
              "       [ 1.01549866, -1.05194947, -1.7935561 ],\n",
              "       [-1.49633548, -1.05194947,  1.62274124],\n",
              "       [ 0.7284319 , -1.05194947, -1.4053405 ],\n",
              "       [-1.28103541, -1.05194947,  1.19570407],\n",
              "       [ 0.22606507, -1.01378004, -1.28887582],\n",
              "       [-0.6351352 , -1.01378004,  0.88513158],\n",
              "       [-0.20453507, -0.89927175, -0.93948177],\n",
              "       [-1.3528021 , -0.89927175,  0.96277471],\n",
              "       [ 1.87669894, -0.86110232, -0.59008772],\n",
              "       [-1.06573534, -0.86110232,  1.62274124],\n",
              "       [ 0.65666521, -0.82293289, -0.55126616],\n",
              "       [-0.56336851, -0.82293289,  0.41927286],\n",
              "       [ 0.7284319 , -0.82293289, -0.86183865],\n",
              "       [-1.06573534, -0.82293289,  0.5745591 ],\n",
              "       [ 0.80019859, -0.78476346,  0.18634349],\n",
              "       [-0.85043527, -0.78476346, -0.12422899],\n",
              "       [-0.70690189, -0.78476346, -0.3183368 ],\n",
              "       [-0.56336851, -0.78476346, -0.3183368 ],\n",
              "       [ 0.7284319 , -0.70842461,  0.06987881],\n",
              "       [-0.41983513, -0.70842461,  0.38045129],\n",
              "       [-0.56336851, -0.67025518,  0.14752193],\n",
              "       [ 1.4460988 , -0.67025518,  0.38045129],\n",
              "       [ 0.80019859, -0.67025518, -0.20187212],\n",
              "       [ 0.58489852, -0.67025518, -0.35715836],\n",
              "       [ 0.87196528, -0.63208575, -0.00776431],\n",
              "       [ 2.16376569, -0.63208575, -0.16305055],\n",
              "       [-0.85043527, -0.55574689,  0.03105725],\n",
              "       [ 1.01549866, -0.55574689, -0.16305055],\n",
              "       [ 2.23553238, -0.55574689,  0.22516505],\n",
              "       [-1.42456879, -0.55574689,  0.18634349],\n",
              "       [ 2.02023231, -0.51757746,  0.06987881],\n",
              "       [ 1.08726535, -0.51757746,  0.34162973],\n",
              "       [ 1.73316556, -0.47940803,  0.03105725],\n",
              "       [-1.49633548, -0.47940803,  0.34162973],\n",
              "       [ 0.29783176, -0.47940803, -0.00776431],\n",
              "       [ 2.091999  , -0.47940803, -0.08540743],\n",
              "       [-1.42456879, -0.47940803,  0.34162973],\n",
              "       [-0.49160182, -0.47940803, -0.12422899],\n",
              "       [ 2.23553238, -0.4412386 ,  0.18634349],\n",
              "       [ 0.58489852, -0.4412386 , -0.3183368 ],\n",
              "       [ 1.51786549, -0.40306917, -0.04658587],\n",
              "       [ 1.51786549, -0.40306917,  0.22516505],\n",
              "       [ 1.4460988 , -0.25039146, -0.12422899],\n",
              "       [-0.92220196, -0.25039146,  0.14752193],\n",
              "       [ 0.44136514, -0.25039146,  0.10870037],\n",
              "       [ 0.08253169, -0.25039146, -0.08540743],\n",
              "       [-1.13750203, -0.25039146,  0.06987881],\n",
              "       [ 0.7284319 , -0.25039146, -0.3183368 ],\n",
              "       [ 1.30256542, -0.25039146,  0.03105725],\n",
              "       [-0.06100169, -0.25039146,  0.18634349],\n",
              "       [ 2.02023231, -0.25039146, -0.35715836],\n",
              "       [ 0.51313183, -0.25039146, -0.24069368],\n",
              "       [-1.28103541, -0.25039146,  0.26398661],\n",
              "       [ 0.65666521, -0.25039146, -0.16305055],\n",
              "       [ 1.15903204, -0.13588317,  0.30280817],\n",
              "       [-1.20926872, -0.13588317,  0.18634349],\n",
              "       [-0.34806844, -0.09771374,  0.38045129],\n",
              "       [ 0.80019859, -0.09771374, -0.16305055],\n",
              "       [ 2.091999  , -0.05954431,  0.18634349],\n",
              "       [-1.49633548, -0.05954431, -0.35715836],\n",
              "       [ 0.65666521, -0.02137488, -0.04658587],\n",
              "       [ 0.08253169, -0.02137488, -0.39597992],\n",
              "       [-0.49160182, -0.02137488, -0.3183368 ],\n",
              "       [-1.06573534, -0.02137488,  0.06987881],\n",
              "       [ 0.58489852, -0.02137488, -0.12422899],\n",
              "       [-0.85043527, -0.02137488, -0.00776431],\n",
              "       [ 0.65666521,  0.01679455, -0.3183368 ],\n",
              "       [-1.3528021 ,  0.01679455, -0.04658587],\n",
              "       [-1.13750203,  0.05496398, -0.35715836],\n",
              "       [ 0.7284319 ,  0.05496398, -0.08540743],\n",
              "       [ 2.02023231,  0.05496398,  0.34162973],\n",
              "       [-0.92220196,  0.05496398,  0.18634349],\n",
              "       [ 0.7284319 ,  0.05496398,  0.22516505],\n",
              "       [-1.28103541,  0.05496398, -0.3183368 ],\n",
              "       [ 1.94846562,  0.09313341, -0.00776431],\n",
              "       [ 1.08726535,  0.09313341, -0.16305055],\n",
              "       [ 2.091999  ,  0.09313341, -0.27951524],\n",
              "       [ 1.94846562,  0.09313341, -0.08540743],\n",
              "       [ 1.87669894,  0.09313341,  0.06987881],\n",
              "       [-1.42456879,  0.09313341,  0.14752193],\n",
              "       [-0.06100169,  0.13130284, -0.3183368 ],\n",
              "       [-1.42456879,  0.13130284, -0.16305055],\n",
              "       [-1.49633548,  0.16947227, -0.08540743],\n",
              "       [-1.42456879,  0.16947227, -0.00776431],\n",
              "       [ 1.73316556,  0.16947227, -0.27951524],\n",
              "       [ 0.7284319 ,  0.16947227,  0.34162973],\n",
              "       [ 0.87196528,  0.24581112, -0.27951524],\n",
              "       [ 0.80019859,  0.24581112,  0.26398661],\n",
              "       [-0.85043527,  0.24581112,  0.22516505],\n",
              "       [-0.06100169,  0.24581112, -0.39597992],\n",
              "       [ 0.08253169,  0.32214998,  0.30280817],\n",
              "       [ 0.010765  ,  0.32214998,  1.58391968],\n",
              "       [-1.13750203,  0.36031941, -0.82301709],\n",
              "       [-0.56336851,  0.36031941,  1.04041783],\n",
              "       [ 0.29783176,  0.39848884, -0.59008772],\n",
              "       [ 0.08253169,  0.39848884,  1.73920592],\n",
              "       [ 1.4460988 ,  0.39848884, -1.52180518],\n",
              "       [-0.06100169,  0.39848884,  0.96277471],\n",
              "       [ 0.58489852,  0.39848884, -1.5994483 ],\n",
              "       [ 0.010765  ,  0.39848884,  0.96277471],\n",
              "       [-0.99396865,  0.43665827, -0.62890928],\n",
              "       [-0.56336851,  0.43665827,  0.80748846],\n",
              "       [-1.3528021 ,  0.4748277 , -1.75473454],\n",
              "       [-0.70690189,  0.4748277 ,  1.46745499],\n",
              "       [ 0.36959845,  0.4748277 , -1.67709142],\n",
              "       [-0.49160182,  0.4748277 ,  0.88513158],\n",
              "       [-1.42456879,  0.51299713, -1.56062674],\n",
              "       [-0.27630176,  0.51299713,  0.84631002],\n",
              "       [ 1.30256542,  0.55116656, -1.75473454],\n",
              "       [-0.49160182,  0.55116656,  1.6615628 ],\n",
              "       [-0.77866858,  0.58933599, -0.39597992],\n",
              "       [-0.49160182,  0.58933599,  1.42863343],\n",
              "       [-0.99396865,  0.62750542, -1.48298362],\n",
              "       [-0.77866858,  0.62750542,  1.81684904],\n",
              "       [ 0.65666521,  0.62750542, -0.55126616],\n",
              "       [-0.49160182,  0.62750542,  0.92395314],\n",
              "       [-0.34806844,  0.66567484, -1.09476801],\n",
              "       [-0.34806844,  0.66567484,  1.54509812],\n",
              "       [ 0.29783176,  0.66567484, -1.28887582],\n",
              "       [ 0.010765  ,  0.66567484,  1.46745499],\n",
              "       [ 0.36959845,  0.66567484, -1.17241113],\n",
              "       [-0.06100169,  0.66567484,  1.00159627],\n",
              "       [ 0.58489852,  0.66567484, -1.32769738],\n",
              "       [-0.85043527,  0.66567484,  1.50627656],\n",
              "       [-0.13276838,  0.66567484, -1.91002079],\n",
              "       [-0.6351352 ,  0.66567484,  1.07923939],\n",
              "       [-0.34806844,  0.66567484, -1.91002079],\n",
              "       [-0.6351352 ,  0.66567484,  0.88513158],\n",
              "       [ 1.23079873,  0.70384427, -0.59008772],\n",
              "       [-0.70690189,  0.70384427,  1.27334719],\n",
              "       [-1.42456879,  0.78018313, -1.75473454],\n",
              "       [-0.56336851,  0.78018313,  1.6615628 ],\n",
              "       [ 0.80019859,  0.93286085, -0.93948177],\n",
              "       [-0.20453507,  0.93286085,  0.96277471],\n",
              "       [ 0.22606507,  0.97103028, -1.17241113],\n",
              "       [-0.41983513,  0.97103028,  1.73920592],\n",
              "       [-0.20453507,  1.00919971, -0.90066021],\n",
              "       [-0.49160182,  1.00919971,  0.49691598],\n",
              "       [ 0.08253169,  1.00919971, -1.44416206],\n",
              "       [-0.77866858,  1.00919971,  0.96277471],\n",
              "       [-0.20453507,  1.00919971, -1.56062674],\n",
              "       [-0.20453507,  1.00919971,  1.62274124],\n",
              "       [ 0.94373197,  1.04736914, -1.44416206],\n",
              "       [-0.6351352 ,  1.04736914,  1.38981187],\n",
              "       [ 1.37433211,  1.04736914, -1.36651894],\n",
              "       [-0.85043527,  1.04736914,  0.72984534],\n",
              "       [ 1.4460988 ,  1.23821628, -1.4053405 ],\n",
              "       [-0.27630176,  1.23821628,  1.54509812],\n",
              "       [-0.13276838,  1.390894  , -0.7065524 ],\n",
              "       [-0.49160182,  1.390894  ,  1.38981187],\n",
              "       [ 0.51313183,  1.42906343, -1.36651894],\n",
              "       [-0.70690189,  1.42906343,  1.46745499],\n",
              "       [ 0.15429838,  1.46723286, -0.43480148],\n",
              "       [-0.6351352 ,  1.46723286,  1.81684904],\n",
              "       [ 1.08726535,  1.54357172, -1.01712489],\n",
              "       [-0.77866858,  1.54357172,  0.69102378],\n",
              "       [ 0.15429838,  1.61991057, -1.28887582],\n",
              "       [-0.20453507,  1.61991057,  1.35099031],\n",
              "       [-0.34806844,  1.61991057, -1.05594645],\n",
              "       [-0.49160182,  1.61991057,  0.72984534],\n",
              "       [-0.41983513,  2.00160487, -1.63826986],\n",
              "       [-0.06100169,  2.00160487,  1.58391968],\n",
              "       [ 0.58489852,  2.26879087, -1.32769738],\n",
              "       [-0.27630176,  2.26879087,  1.11806095],\n",
              "       [ 0.44136514,  2.49780745, -0.86183865],\n",
              "       [-0.49160182,  2.49780745,  0.92395314],\n",
              "       [-0.49160182,  2.91767117, -1.25005425],\n",
              "       [-0.6351352 ,  2.91767117,  1.27334719]])"
            ]
          },
          "execution_count": 35,
          "metadata": {},
          "output_type": "execute_result"
        }
      ],
      "source": [
        "scaled_data"
      ]
    },
    {
      "cell_type": "markdown",
      "id": "3654ea78",
      "metadata": {
        "id": "3654ea78"
      },
      "source": [
        "### Determine the best number of cluster"
      ]
    },
    {
      "cell_type": "markdown",
      "id": "d0a29ee5",
      "metadata": {
        "id": "d0a29ee5"
      },
      "source": [
        "A clustering model will not be relevant if we fail to identify the correct number of clusters to consider. Multiple techniques exist in the literature. We are going to consider the Elbow method, which is a heuristic method, and one of the widely used to find the optimal number of clusters."
      ]
    },
    {
      "cell_type": "code",
      "execution_count": null,
      "id": "d93f6cd4",
      "metadata": {
        "id": "d93f6cd4"
      },
      "outputs": [],
      "source": [
        "def find_best_clusters(df, maximum_K):\n",
        "    clusters_centers = []\n",
        "    k_values = []\n",
        "    for k in range(2, maximum_K):\n",
        "        kmeans_model = KMeans(n_clusters = k)\n",
        "        kmeans_model.fit(df)\n",
        "\n",
        "        clusters_centers.append(kmeans_model.inertia_)\n",
        "        k_values.append(k)\n",
        "\n",
        "    return clusters_centers, k_values\n",
        "\n",
        "#measure of how tightly grouped the data points are within their clusters using elbow method. The inertia decreases as the number of clusters increases, but at some point, adding more clusters gives diminishing returns"
      ]
    },
    {
      "cell_type": "code",
      "execution_count": null,
      "id": "31b0fac6",
      "metadata": {
        "id": "31b0fac6",
        "outputId": "9328fed5-a703-44b6-b5b5-fa562016fdef"
      },
      "outputs": [
        {
          "name": "stderr",
          "output_type": "stream",
          "text": [
            "D:\\edunet_foundation\\anaconda3\\Lib\\site-packages\\sklearn\\cluster\\_kmeans.py:1446: UserWarning: KMeans is known to have a memory leak on Windows with MKL, when there are less chunks than available threads. You can avoid it by setting the environment variable OMP_NUM_THREADS=1.\n",
            "  warnings.warn(\n",
            "D:\\edunet_foundation\\anaconda3\\Lib\\site-packages\\sklearn\\cluster\\_kmeans.py:1446: UserWarning: KMeans is known to have a memory leak on Windows with MKL, when there are less chunks than available threads. You can avoid it by setting the environment variable OMP_NUM_THREADS=1.\n",
            "  warnings.warn(\n",
            "D:\\edunet_foundation\\anaconda3\\Lib\\site-packages\\sklearn\\cluster\\_kmeans.py:1446: UserWarning: KMeans is known to have a memory leak on Windows with MKL, when there are less chunks than available threads. You can avoid it by setting the environment variable OMP_NUM_THREADS=1.\n",
            "  warnings.warn(\n",
            "D:\\edunet_foundation\\anaconda3\\Lib\\site-packages\\sklearn\\cluster\\_kmeans.py:1446: UserWarning: KMeans is known to have a memory leak on Windows with MKL, when there are less chunks than available threads. You can avoid it by setting the environment variable OMP_NUM_THREADS=1.\n",
            "  warnings.warn(\n",
            "D:\\edunet_foundation\\anaconda3\\Lib\\site-packages\\sklearn\\cluster\\_kmeans.py:1446: UserWarning: KMeans is known to have a memory leak on Windows with MKL, when there are less chunks than available threads. You can avoid it by setting the environment variable OMP_NUM_THREADS=1.\n",
            "  warnings.warn(\n",
            "D:\\edunet_foundation\\anaconda3\\Lib\\site-packages\\sklearn\\cluster\\_kmeans.py:1446: UserWarning: KMeans is known to have a memory leak on Windows with MKL, when there are less chunks than available threads. You can avoid it by setting the environment variable OMP_NUM_THREADS=1.\n",
            "  warnings.warn(\n",
            "D:\\edunet_foundation\\anaconda3\\Lib\\site-packages\\sklearn\\cluster\\_kmeans.py:1446: UserWarning: KMeans is known to have a memory leak on Windows with MKL, when there are less chunks than available threads. You can avoid it by setting the environment variable OMP_NUM_THREADS=1.\n",
            "  warnings.warn(\n",
            "D:\\edunet_foundation\\anaconda3\\Lib\\site-packages\\sklearn\\cluster\\_kmeans.py:1446: UserWarning: KMeans is known to have a memory leak on Windows with MKL, when there are less chunks than available threads. You can avoid it by setting the environment variable OMP_NUM_THREADS=1.\n",
            "  warnings.warn(\n",
            "D:\\edunet_foundation\\anaconda3\\Lib\\site-packages\\sklearn\\cluster\\_kmeans.py:1446: UserWarning: KMeans is known to have a memory leak on Windows with MKL, when there are less chunks than available threads. You can avoid it by setting the environment variable OMP_NUM_THREADS=1.\n",
            "  warnings.warn(\n",
            "D:\\edunet_foundation\\anaconda3\\Lib\\site-packages\\sklearn\\cluster\\_kmeans.py:1446: UserWarning: KMeans is known to have a memory leak on Windows with MKL, when there are less chunks than available threads. You can avoid it by setting the environment variable OMP_NUM_THREADS=1.\n",
            "  warnings.warn(\n"
          ]
        }
      ],
      "source": [
        "clusters_centers, k_values = find_best_clusters(scaled_data, 12)"
      ]
    },
    {
      "cell_type": "code",
      "execution_count": null,
      "id": "a728324c",
      "metadata": {
        "id": "a728324c"
      },
      "outputs": [],
      "source": [
        "def generate_elbow_plot(clusters_centers, k_values):\n",
        "\n",
        "    figure = plt.subplots(figsize = (12, 6))\n",
        "    plt.plot(k_values, clusters_centers, 'o-', color = 'orange')\n",
        "    plt.xlabel(\"Number of Clusters (K)\")\n",
        "    plt.ylabel(\"Cluster Inertia\")\n",
        "    plt.title(\"Elbow Plot of KMeans\")\n",
        "    plt.show()"
      ]
    },
    {
      "cell_type": "code",
      "execution_count": null,
      "id": "16074236",
      "metadata": {
        "id": "16074236",
        "outputId": "6fe1724f-8ade-489a-c919-97b1e78d2073"
      },
      "outputs": [
        {
          "data": {
            "image/png": "[encoded data removed]",
            "text/plain": [
              "<Figure size 1200x600 with 1 Axes>"
            ]
          },
          "metadata": {},
          "output_type": "display_data"
        }
      ],
      "source": [
        "generate_elbow_plot(clusters_centers, k_values)"
      ]
    },
    {
      "cell_type": "markdown",
      "id": "ecf4dba7",
      "metadata": {
        "id": "ecf4dba7"
      },
      "source": [
        "From the plot, we notice that the cluster inertia decreases as we increase the number of clusters. Also the drop the inertia is minimal after K=5 hence 5 can be considered as the optimal number of clusters."
      ]
    },
    {
      "cell_type": "markdown",
      "id": "02180d28",
      "metadata": {
        "id": "02180d28"
      },
      "source": [
        "### Create the final KMeans model"
      ]
    },
    {
      "cell_type": "code",
      "execution_count": null,
      "id": "255803db",
      "metadata": {
        "id": "255803db"
      },
      "outputs": [],
      "source": [
        "kmeans_model = KMeans(n_clusters = 5)"
      ]
    },
    {
      "cell_type": "code",
      "execution_count": null,
      "id": "39b1a06c",
      "metadata": {
        "id": "39b1a06c",
        "outputId": "62042f87-0b7e-4d78-fe14-ff8f0a125e83"
      },
      "outputs": [
        {
          "name": "stderr",
          "output_type": "stream",
          "text": [
            "D:\\edunet_foundation\\anaconda3\\Lib\\site-packages\\sklearn\\cluster\\_kmeans.py:1446: UserWarning: KMeans is known to have a memory leak on Windows with MKL, when there are less chunks than available threads. You can avoid it by setting the environment variable OMP_NUM_THREADS=1.\n",
            "  warnings.warn(\n"
          ]
        },
        {
          "data": {
            "text/html": [
              "<style>#sk-container-id-2 {\n",
              "  /* Definition of color scheme common for light and dark mode */\n",
              "  --sklearn-color-text: black;\n",
              "  --sklearn-color-line: gray;\n",
              "  /* Definition of color scheme for unfitted estimators */\n",
              "  --sklearn-color-unfitted-level-0: #fff5e6;\n",
              "  --sklearn-color-unfitted-level-1: #f6e4d2;\n",
              "  --sklearn-color-unfitted-level-2: #ffe0b3;\n",
              "  --sklearn-color-unfitted-level-3: chocolate;\n",
              "  /* Definition of color scheme for fitted estimators */\n",
              "  --sklearn-color-fitted-level-0: #f0f8ff;\n",
              "  --sklearn-color-fitted-level-1: #d4ebff;\n",
              "  --sklearn-color-fitted-level-2: #b3dbfd;\n",
              "  --sklearn-color-fitted-level-3: cornflowerblue;\n",
              "\n",
              "  /* Specific color for light theme */\n",
              "  --sklearn-color-text-on-default-background: var(--sg-text-color, var(--theme-code-foreground, var(--jp-content-font-color1, black)));\n",
              "  --sklearn-color-background: var(--sg-background-color, var(--theme-background, var(--jp-layout-color0, white)));\n",
              "  --sklearn-color-border-box: var(--sg-text-color, var(--theme-code-foreground, var(--jp-content-font-color1, black)));\n",
              "  --sklearn-color-icon: #696969;\n",
              "\n",
              "  @media (prefers-color-scheme: dark) {\n",
              "    /* Redefinition of color scheme for dark theme */\n",
              "    --sklearn-color-text-on-default-background: var(--sg-text-color, var(--theme-code-foreground, var(--jp-content-font-color1, white)));\n",
              "    --sklearn-color-background: var(--sg-background-color, var(--theme-background, var(--jp-layout-color0, #111)));\n",
              "    --sklearn-color-border-box: var(--sg-text-color, var(--theme-code-foreground, var(--jp-content-font-color1, white)));\n",
              "    --sklearn-color-icon: #878787;\n",
              "  }\n",
              "}\n",
              "\n",
              "#sk-container-id-2 {\n",
              "  color: var(--sklearn-color-text);\n",
              "}\n",
              "\n",
              "#sk-container-id-2 pre {\n",
              "  padding: 0;\n",
              "}\n",
              "\n",
              "#sk-container-id-2 input.sk-hidden--visually {\n",
              "  border: 0;\n",
              "  clip: rect(1px 1px 1px 1px);\n",
              "  clip: rect(1px, 1px, 1px, 1px);\n",
              "  height: 1px;\n",
              "  margin: -1px;\n",
              "  overflow: hidden;\n",
              "  padding: 0;\n",
              "  position: absolute;\n",
              "  width: 1px;\n",
              "}\n",
              "\n",
              "#sk-container-id-2 div.sk-dashed-wrapped {\n",
              "  border: 1px dashed var(--sklearn-color-line);\n",
              "  margin: 0 0.4em 0.5em 0.4em;\n",
              "  box-sizing: border-box;\n",
              "  padding-bottom: 0.4em;\n",
              "  background-color: var(--sklearn-color-background);\n",
              "}\n",
              "\n",
              "#sk-container-id-2 div.sk-container {\n",
              "  /* jupyter's `normalize.less` sets `[hidden] { display: none; }`\n",
              "     but bootstrap.min.css set `[hidden] { display: none !important; }`\n",
              "     so we also need the `!important` here to be able to override the\n",
              "     default hidden behavior on the sphinx rendered scikit-learn.org.\n",
              "     See: https://github.com/scikit-learn/scikit-learn/issues/21755 */\n",
              "  display: inline-block !important;\n",
              "  position: relative;\n",
              "}\n",
              "\n",
              "#sk-container-id-2 div.sk-text-repr-fallback {\n",
              "  display: none;\n",
              "}\n",
              "\n",
              "div.sk-parallel-item,\n",
              "div.sk-serial,\n",
              "div.sk-item {\n",
              "  /* draw centered vertical line to link estimators */\n",
              "  background-image: linear-gradient(var(--sklearn-color-text-on-default-background), var(--sklearn-color-text-on-default-background));\n",
              "  background-size: 2px 100%;\n",
              "  background-repeat: no-repeat;\n",
              "  background-position: center center;\n",
              "}\n",
              "\n",
              "/* Parallel-specific style estimator block */\n",
              "\n",
              "#sk-container-id-2 div.sk-parallel-item::after {\n",
              "  content: \"\";\n",
              "  width: 100%;\n",
              "  border-bottom: 2px solid var(--sklearn-color-text-on-default-background);\n",
              "  flex-grow: 1;\n",
              "}\n",
              "\n",
              "#sk-container-id-2 div.sk-parallel {\n",
              "  display: flex;\n",
              "  align-items: stretch;\n",
              "  justify-content: center;\n",
              "  background-color: var(--sklearn-color-background);\n",
              "  position: relative;\n",
              "}\n",
              "\n",
              "#sk-container-id-2 div.sk-parallel-item {\n",
              "  display: flex;\n",
              "  flex-direction: column;\n",
              "}\n",
              "\n",
              "#sk-container-id-2 div.sk-parallel-item:first-child::after {\n",
              "  align-self: flex-end;\n",
              "  width: 50%;\n",
              "}\n",
              "\n",
              "#sk-container-id-2 div.sk-parallel-item:last-child::after {\n",
              "  align-self: flex-start;\n",
              "  width: 50%;\n",
              "}\n",
              "\n",
              "#sk-container-id-2 div.sk-parallel-item:only-child::after {\n",
              "  width: 0;\n",
              "}\n",
              "\n",
              "/* Serial-specific style estimator block */\n",
              "\n",
              "#sk-container-id-2 div.sk-serial {\n",
              "  display: flex;\n",
              "  flex-direction: column;\n",
              "  align-items: center;\n",
              "  background-color: var(--sklearn-color-background);\n",
              "  padding-right: 1em;\n",
              "  padding-left: 1em;\n",
              "}\n",
              "\n",
              "\n",
              "/* Toggleable style: style used for estimator/Pipeline/ColumnTransformer box that is\n",
              "clickable and can be expanded/collapsed.\n",
              "- Pipeline and ColumnTransformer use this feature and define the default style\n",
              "- Estimators will overwrite some part of the style using the `sk-estimator` class\n",
              "*/\n",
              "\n",
              "/* Pipeline and ColumnTransformer style (default) */\n",
              "\n",
              "#sk-container-id-2 div.sk-toggleable {\n",
              "  /* Default theme specific background. It is overwritten whether we have a\n",
              "  specific estimator or a Pipeline/ColumnTransformer */\n",
              "  background-color: var(--sklearn-color-background);\n",
              "}\n",
              "\n",
              "/* Toggleable label */\n",
              "#sk-container-id-2 label.sk-toggleable__label {\n",
              "  cursor: pointer;\n",
              "  display: block;\n",
              "  width: 100%;\n",
              "  margin-bottom: 0;\n",
              "  padding: 0.5em;\n",
              "  box-sizing: border-box;\n",
              "  text-align: center;\n",
              "}\n",
              "\n",
              "#sk-container-id-2 label.sk-toggleable__label-arrow:before {\n",
              "  /* Arrow on the left of the label */\n",
              "  content: \"▸\";\n",
              "  float: left;\n",
              "  margin-right: 0.25em;\n",
              "  color: var(--sklearn-color-icon);\n",
              "}\n",
              "\n",
              "#sk-container-id-2 label.sk-toggleable__label-arrow:hover:before {\n",
              "  color: var(--sklearn-color-text);\n",
              "}\n",
              "\n",
              "/* Toggleable content - dropdown */\n",
              "\n",
              "#sk-container-id-2 div.sk-toggleable__content {\n",
              "  max-height: 0;\n",
              "  max-width: 0;\n",
              "  overflow: hidden;\n",
              "  text-align: left;\n",
              "  /* unfitted */\n",
              "  background-color: var(--sklearn-color-unfitted-level-0);\n",
              "}\n",
              "\n",
              "#sk-container-id-2 div.sk-toggleable__content.fitted {\n",
              "  /* fitted */\n",
              "  background-color: var(--sklearn-color-fitted-level-0);\n",
              "}\n",
              "\n",
              "#sk-container-id-2 div.sk-toggleable__content pre {\n",
              "  margin: 0.2em;\n",
              "  border-radius: 0.25em;\n",
              "  color: var(--sklearn-color-text);\n",
              "  /* unfitted */\n",
              "  background-color: var(--sklearn-color-unfitted-level-0);\n",
              "}\n",
              "\n",
              "#sk-container-id-2 div.sk-toggleable__content.fitted pre {\n",
              "  /* unfitted */\n",
              "  background-color: var(--sklearn-color-fitted-level-0);\n",
              "}\n",
              "\n",
              "#sk-container-id-2 input.sk-toggleable__control:checked~div.sk-toggleable__content {\n",
              "  /* Expand drop-down */\n",
              "  max-height: 200px;\n",
              "  max-width: 100%;\n",
              "  overflow: auto;\n",
              "}\n",
              "\n",
              "#sk-container-id-2 input.sk-toggleable__control:checked~label.sk-toggleable__label-arrow:before {\n",
              "  content: \"▾\";\n",
              "}\n",
              "\n",
              "/* Pipeline/ColumnTransformer-specific style */\n",
              "\n",
              "#sk-container-id-2 div.sk-label input.sk-toggleable__control:checked~label.sk-toggleable__label {\n",
              "  color: var(--sklearn-color-text);\n",
              "  background-color: var(--sklearn-color-unfitted-level-2);\n",
              "}\n",
              "\n",
              "#sk-container-id-2 div.sk-label.fitted input.sk-toggleable__control:checked~label.sk-toggleable__label {\n",
              "  background-color: var(--sklearn-color-fitted-level-2);\n",
              "}\n",
              "\n",
              "/* Estimator-specific style */\n",
              "\n",
              "/* Colorize estimator box */\n",
              "#sk-container-id-2 div.sk-estimator input.sk-toggleable__control:checked~label.sk-toggleable__label {\n",
              "  /* unfitted */\n",
              "  background-color: var(--sklearn-color-unfitted-level-2);\n",
              "}\n",
              "\n",
              "#sk-container-id-2 div.sk-estimator.fitted input.sk-toggleable__control:checked~label.sk-toggleable__label {\n",
              "  /* fitted */\n",
              "  background-color: var(--sklearn-color-fitted-level-2);\n",
              "}\n",
              "\n",
              "#sk-container-id-2 div.sk-label label.sk-toggleable__label,\n",
              "#sk-container-id-2 div.sk-label label {\n",
              "  /* The background is the default theme color */\n",
              "  color: var(--sklearn-color-text-on-default-background);\n",
              "}\n",
              "\n",
              "/* On hover, darken the color of the background */\n",
              "#sk-container-id-2 div.sk-label:hover label.sk-toggleable__label {\n",
              "  color: var(--sklearn-color-text);\n",
              "  background-color: var(--sklearn-color-unfitted-level-2);\n",
              "}\n",
              "\n",
              "/* Label box, darken color on hover, fitted */\n",
              "#sk-container-id-2 div.sk-label.fitted:hover label.sk-toggleable__label.fitted {\n",
              "  color: var(--sklearn-color-text);\n",
              "  background-color: var(--sklearn-color-fitted-level-2);\n",
              "}\n",
              "\n",
              "/* Estimator label */\n",
              "\n",
              "#sk-container-id-2 div.sk-label label {\n",
              "  font-family: monospace;\n",
              "  font-weight: bold;\n",
              "  display: inline-block;\n",
              "  line-height: 1.2em;\n",
              "}\n",
              "\n",
              "#sk-container-id-2 div.sk-label-container {\n",
              "  text-align: center;\n",
              "}\n",
              "\n",
              "/* Estimator-specific */\n",
              "#sk-container-id-2 div.sk-estimator {\n",
              "  font-family: monospace;\n",
              "  border: 1px dotted var(--sklearn-color-border-box);\n",
              "  border-radius: 0.25em;\n",
              "  box-sizing: border-box;\n",
              "  margin-bottom: 0.5em;\n",
              "  /* unfitted */\n",
              "  background-color: var(--sklearn-color-unfitted-level-0);\n",
              "}\n",
              "\n",
              "#sk-container-id-2 div.sk-estimator.fitted {\n",
              "  /* fitted */\n",
              "  background-color: var(--sklearn-color-fitted-level-0);\n",
              "}\n",
              "\n",
              "/* on hover */\n",
              "#sk-container-id-2 div.sk-estimator:hover {\n",
              "  /* unfitted */\n",
              "  background-color: var(--sklearn-color-unfitted-level-2);\n",
              "}\n",
              "\n",
              "#sk-container-id-2 div.sk-estimator.fitted:hover {\n",
              "  /* fitted */\n",
              "  background-color: var(--sklearn-color-fitted-level-2);\n",
              "}\n",
              "\n",
              "/* Specification for estimator info (e.g. \"i\" and \"?\") */\n",
              "\n",
              "/* Common style for \"i\" and \"?\" */\n",
              "\n",
              ".sk-estimator-doc-link,\n",
              "a:link.sk-estimator-doc-link,\n",
              "a:visited.sk-estimator-doc-link {\n",
              "  float: right;\n",
              "  font-size: smaller;\n",
              "  line-height: 1em;\n",
              "  font-family: monospace;\n",
              "  background-color: var(--sklearn-color-background);\n",
              "  border-radius: 1em;\n",
              "  height: 1em;\n",
              "  width: 1em;\n",
              "  text-decoration: none !important;\n",
              "  margin-left: 1ex;\n",
              "  /* unfitted */\n",
              "  border: var(--sklearn-color-unfitted-level-1) 1pt solid;\n",
              "  color: var(--sklearn-color-unfitted-level-1);\n",
              "}\n",
              "\n",
              ".sk-estimator-doc-link.fitted,\n",
              "a:link.sk-estimator-doc-link.fitted,\n",
              "a:visited.sk-estimator-doc-link.fitted {\n",
              "  /* fitted */\n",
              "  border: var(--sklearn-color-fitted-level-1) 1pt solid;\n",
              "  color: var(--sklearn-color-fitted-level-1);\n",
              "}\n",
              "\n",
              "/* On hover */\n",
              "div.sk-estimator:hover .sk-estimator-doc-link:hover,\n",
              ".sk-estimator-doc-link:hover,\n",
              "div.sk-label-container:hover .sk-estimator-doc-link:hover,\n",
              ".sk-estimator-doc-link:hover {\n",
              "  /* unfitted */\n",
              "  background-color: var(--sklearn-color-unfitted-level-3);\n",
              "  color: var(--sklearn-color-background);\n",
              "  text-decoration: none;\n",
              "}\n",
              "\n",
              "div.sk-estimator.fitted:hover .sk-estimator-doc-link.fitted:hover,\n",
              ".sk-estimator-doc-link.fitted:hover,\n",
              "div.sk-label-container:hover .sk-estimator-doc-link.fitted:hover,\n",
              ".sk-estimator-doc-link.fitted:hover {\n",
              "  /* fitted */\n",
              "  background-color: var(--sklearn-color-fitted-level-3);\n",
              "  color: var(--sklearn-color-background);\n",
              "  text-decoration: none;\n",
              "}\n",
              "\n",
              "/* Span, style for the box shown on hovering the info icon */\n",
              ".sk-estimator-doc-link span {\n",
              "  display: none;\n",
              "  z-index: 9999;\n",
              "  position: relative;\n",
              "  font-weight: normal;\n",
              "  right: .2ex;\n",
              "  padding: .5ex;\n",
              "  margin: .5ex;\n",
              "  width: min-content;\n",
              "  min-width: 20ex;\n",
              "  max-width: 50ex;\n",
              "  color: var(--sklearn-color-text);\n",
              "  box-shadow: 2pt 2pt 4pt #999;\n",
              "  /* unfitted */\n",
              "  background: var(--sklearn-color-unfitted-level-0);\n",
              "  border: .5pt solid var(--sklearn-color-unfitted-level-3);\n",
              "}\n",
              "\n",
              ".sk-estimator-doc-link.fitted span {\n",
              "  /* fitted */\n",
              "  background: var(--sklearn-color-fitted-level-0);\n",
              "  border: var(--sklearn-color-fitted-level-3);\n",
              "}\n",
              "\n",
              ".sk-estimator-doc-link:hover span {\n",
              "  display: block;\n",
              "}\n",
              "\n",
              "/* \"?\"-specific style due to the `<a>` HTML tag */\n",
              "\n",
              "#sk-container-id-2 a.estimator_doc_link {\n",
              "  float: right;\n",
              "  font-size: 1rem;\n",
              "  line-height: 1em;\n",
              "  font-family: monospace;\n",
              "  background-color: var(--sklearn-color-background);\n",
              "  border-radius: 1rem;\n",
              "  height: 1rem;\n",
              "  width: 1rem;\n",
              "  text-decoration: none;\n",
              "  /* unfitted */\n",
              "  color: var(--sklearn-color-unfitted-level-1);\n",
              "  border: var(--sklearn-color-unfitted-level-1) 1pt solid;\n",
              "}\n",
              "\n",
              "#sk-container-id-2 a.estimator_doc_link.fitted {\n",
              "  /* fitted */\n",
              "  border: var(--sklearn-color-fitted-level-1) 1pt solid;\n",
              "  color: var(--sklearn-color-fitted-level-1);\n",
              "}\n",
              "\n",
              "/* On hover */\n",
              "#sk-container-id-2 a.estimator_doc_link:hover {\n",
              "  /* unfitted */\n",
              "  background-color: var(--sklearn-color-unfitted-level-3);\n",
              "  color: var(--sklearn-color-background);\n",
              "  text-decoration: none;\n",
              "}\n",
              "\n",
              "#sk-container-id-2 a.estimator_doc_link.fitted:hover {\n",
              "  /* fitted */\n",
              "  background-color: var(--sklearn-color-fitted-level-3);\n",
              "}\n",
              "</style><div id=\"sk-container-id-2\" class=\"sk-top-container\"><div class=\"sk-text-repr-fallback\"><pre>KMeans(n_clusters=5)</pre><b>In a Jupyter environment, please rerun this cell to show the HTML representation or trust the notebook. <br />On GitHub, the HTML representation is unable to render, please try loading this page with nbviewer.org.</b></div><div class=\"sk-container\" hidden><div class=\"sk-item\"><div class=\"sk-estimator fitted sk-toggleable\"><input class=\"sk-toggleable__control sk-hidden--visually\" id=\"sk-estimator-id-2\" type=\"checkbox\" checked><label for=\"sk-estimator-id-2\" class=\"sk-toggleable__label fitted sk-toggleable__label-arrow fitted\">&nbsp;&nbsp;KMeans<a class=\"sk-estimator-doc-link fitted\" rel=\"noreferrer\" target=\"_blank\" href=\"https://scikit-learn.org/1.4/modules/generated/sklearn.cluster.KMeans.html\">?<span>Documentation for KMeans</span></a><span class=\"sk-estimator-doc-link fitted\">i<span>Fitted</span></span></label><div class=\"sk-toggleable__content fitted\"><pre>KMeans(n_clusters=5)</pre></div> </div></div></div></div>"
            ],
            "text/plain": [
              "KMeans(n_clusters=5)"
            ]
          },
          "execution_count": 47,
          "metadata": {},
          "output_type": "execute_result"
        }
      ],
      "source": [
        "kmeans_model.fit(scaled_data)"
      ]
    },
    {
      "cell_type": "code",
      "execution_count": null,
      "id": "8177f123",
      "metadata": {
        "id": "8177f123"
      },
      "outputs": [],
      "source": [
        "### We can access the cluster to which each data point belongs by using the .labels_ attribute."
      ]
    },
    {
      "cell_type": "code",
      "execution_count": null,
      "id": "9d44baa7",
      "metadata": {
        "id": "9d44baa7"
      },
      "outputs": [],
      "source": [
        "df[\"clusters\"] = kmeans_model.labels_"
      ]
    },
    {
      "cell_type": "code",
      "execution_count": null,
      "id": "5935e4af",
      "metadata": {
        "id": "5935e4af",
        "outputId": "60f6487c-2486-40bf-fc9f-9d3e249b86d1"
      },
      "outputs": [
        {
          "data": {
            "text/html": [
              "<div>\n",
              "<style scoped>\n",
              "    .dataframe tbody tr th:only-of-type {\n",
              "        vertical-align: middle;\n",
              "    }\n",
              "\n",
              "    .dataframe tbody tr th {\n",
              "        vertical-align: top;\n",
              "    }\n",
              "\n",
              "    .dataframe thead th {\n",
              "        text-align: right;\n",
              "    }\n",
              "</style>\n",
              "<table border=\"1\" class=\"dataframe\">\n",
              "  <thead>\n",
              "    <tr style=\"text-align: right;\">\n",
              "      <th></th>\n",
              "      <th>CustomerID</th>\n",
              "      <th>Gender</th>\n",
              "      <th>Age</th>\n",
              "      <th>Annual Income (k$)</th>\n",
              "      <th>Spending Score (1-100)</th>\n",
              "      <th>clusters</th>\n",
              "    </tr>\n",
              "  </thead>\n",
              "  <tbody>\n",
              "    <tr>\n",
              "      <th>0</th>\n",
              "      <td>1</td>\n",
              "      <td>Male</td>\n",
              "      <td>19</td>\n",
              "      <td>15</td>\n",
              "      <td>39</td>\n",
              "      <td>1</td>\n",
              "    </tr>\n",
              "    <tr>\n",
              "      <th>1</th>\n",
              "      <td>2</td>\n",
              "      <td>Male</td>\n",
              "      <td>21</td>\n",
              "      <td>15</td>\n",
              "      <td>81</td>\n",
              "      <td>1</td>\n",
              "    </tr>\n",
              "    <tr>\n",
              "      <th>2</th>\n",
              "      <td>3</td>\n",
              "      <td>Female</td>\n",
              "      <td>20</td>\n",
              "      <td>16</td>\n",
              "      <td>6</td>\n",
              "      <td>0</td>\n",
              "    </tr>\n",
              "    <tr>\n",
              "      <th>3</th>\n",
              "      <td>4</td>\n",
              "      <td>Female</td>\n",
              "      <td>23</td>\n",
              "      <td>16</td>\n",
              "      <td>77</td>\n",
              "      <td>1</td>\n",
              "    </tr>\n",
              "    <tr>\n",
              "      <th>4</th>\n",
              "      <td>5</td>\n",
              "      <td>Female</td>\n",
              "      <td>31</td>\n",
              "      <td>17</td>\n",
              "      <td>40</td>\n",
              "      <td>1</td>\n",
              "    </tr>\n",
              "    <tr>\n",
              "      <th>...</th>\n",
              "      <td>...</td>\n",
              "      <td>...</td>\n",
              "      <td>...</td>\n",
              "      <td>...</td>\n",
              "      <td>...</td>\n",
              "      <td>...</td>\n",
              "    </tr>\n",
              "    <tr>\n",
              "      <th>195</th>\n",
              "      <td>196</td>\n",
              "      <td>Female</td>\n",
              "      <td>35</td>\n",
              "      <td>120</td>\n",
              "      <td>79</td>\n",
              "      <td>3</td>\n",
              "    </tr>\n",
              "    <tr>\n",
              "      <th>196</th>\n",
              "      <td>197</td>\n",
              "      <td>Female</td>\n",
              "      <td>45</td>\n",
              "      <td>126</td>\n",
              "      <td>28</td>\n",
              "      <td>2</td>\n",
              "    </tr>\n",
              "    <tr>\n",
              "      <th>197</th>\n",
              "      <td>198</td>\n",
              "      <td>Male</td>\n",
              "      <td>32</td>\n",
              "      <td>126</td>\n",
              "      <td>74</td>\n",
              "      <td>3</td>\n",
              "    </tr>\n",
              "    <tr>\n",
              "      <th>198</th>\n",
              "      <td>199</td>\n",
              "      <td>Male</td>\n",
              "      <td>32</td>\n",
              "      <td>137</td>\n",
              "      <td>18</td>\n",
              "      <td>2</td>\n",
              "    </tr>\n",
              "    <tr>\n",
              "      <th>199</th>\n",
              "      <td>200</td>\n",
              "      <td>Male</td>\n",
              "      <td>30</td>\n",
              "      <td>137</td>\n",
              "      <td>83</td>\n",
              "      <td>3</td>\n",
              "    </tr>\n",
              "  </tbody>\n",
              "</table>\n",
              "<p>200 rows × 6 columns</p>\n",
              "</div>"
            ],
            "text/plain": [
              "     CustomerID  Gender  Age  Annual Income (k$)  Spending Score (1-100)  \\\n",
              "0             1    Male   19                  15                      39   \n",
              "1             2    Male   21                  15                      81   \n",
              "2             3  Female   20                  16                       6   \n",
              "3             4  Female   23                  16                      77   \n",
              "4             5  Female   31                  17                      40   \n",
              "..          ...     ...  ...                 ...                     ...   \n",
              "195         196  Female   35                 120                      79   \n",
              "196         197  Female   45                 126                      28   \n",
              "197         198    Male   32                 126                      74   \n",
              "198         199    Male   32                 137                      18   \n",
              "199         200    Male   30                 137                      83   \n",
              "\n",
              "     clusters  \n",
              "0           1  \n",
              "1           1  \n",
              "2           0  \n",
              "3           1  \n",
              "4           1  \n",
              "..        ...  \n",
              "195         3  \n",
              "196         2  \n",
              "197         3  \n",
              "198         2  \n",
              "199         3  \n",
              "\n",
              "[200 rows x 6 columns]"
            ]
          },
          "execution_count": 51,
          "metadata": {},
          "output_type": "execute_result"
        }
      ],
      "source": [
        "df"
      ]
    },
    {
      "cell_type": "markdown",
      "id": "a05cc744",
      "metadata": {
        "id": "a05cc744"
      },
      "source": [
        "### Visualize the clusters"
      ]
    },
    {
      "cell_type": "code",
      "execution_count": null,
      "id": "3fcf1b27",
      "metadata": {
        "id": "3fcf1b27",
        "outputId": "d4a5ce2a-66f8-494f-b516-53c3b7e7507e"
      },
      "outputs": [
        {
          "data": {
            "text/plain": [
              "<matplotlib.collections.PathCollection at 0x29e66dec620>"
            ]
          },
          "execution_count": 53,
          "metadata": {},
          "output_type": "execute_result"
        },
        {
          "data": {
            "image/png": "[encoded data removed]",
            "text/plain": [
              "<Figure size 640x480 with 1 Axes>"
            ]
          },
          "metadata": {},
          "output_type": "display_data"
        }
      ],
      "source": [
        "plt.scatter(df[\"Spending Score (1-100)\"],\n",
        "            df[\"Annual Income (k$)\"],\n",
        "            c = df[\"clusters\"]\n",
        "            )"
      ]
    },
    {
      "cell_type": "markdown",
      "id": "6eaea878",
      "metadata": {
        "id": "6eaea878"
      },
      "source": [
        "The KMeans clustering seems to generate a pretty good result, and the five clusters are well separated from each other, even though there is a slight overlap between the purple and the yellow clusters."
      ]
    },
    {
      "cell_type": "markdown",
      "id": "66cf75f5",
      "metadata": {
        "id": "66cf75f5"
      },
      "source": [
        "- Customers on the top left have a low spending score and a high annual income. A good marketing strategy could be implemented to target those customers so that they can spend more.\n",
        "- On the other hand, customers on the bottom left have a low annual income and also spends less, which makes sense, because they are trying to adjust their spending habit to their budget.\n",
        "- The top right customers are similar to the bottom left, the difference is that they have enough budget to spend.\n",
        "- Finally, the yellow group of customers spends beyond their budget."
      ]
    }
  ],
  "metadata": {
    "kernelspec": {
      "display_name": "Python 3 (ipykernel)",
      "language": "python",
      "name": "python3"
    },
    "language_info": {
      "codemirror_mode": {
        "name": "ipython",
        "version": 3
      },
      "file_extension": ".py",
      "mimetype": "text/x-python",
      "name": "python",
      "nbconvert_exporter": "python",
      "pygments_lexer": "ipython3",
      "version": "3.12.3"
    },
    "toc": {
      "base_numbering": 1,
      "nav_menu": {},
      "number_sections": true,
      "sideBar": true,
      "skip_h1_title": false,
      "title_cell": "Table of Contents",
      "title_sidebar": "Contents",
      "toc_cell": false,
      "toc_position": {},
      "toc_section_display": true,
      "toc_window_display": false
    },
    "colab": {
      "provenance": [],
      "include_colab_link": true
    }
  },
  "nbformat": 4,
  "nbformat_minor": 5
}